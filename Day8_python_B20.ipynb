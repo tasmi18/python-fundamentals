{
 "cells": [
  {
   "cell_type": "code",
   "execution_count": null,
   "metadata": {},
   "outputs": [],
   "source": [
    "#continuation of list"
   ]
  },
  {
   "cell_type": "code",
   "execution_count": null,
   "metadata": {},
   "outputs": [],
   "source": []
  },
  {
   "cell_type": "code",
   "execution_count": 2,
   "metadata": {},
   "outputs": [],
   "source": [
    "my_friends = ['anushka','bhavisha','rafat','uzma','anjali']"
   ]
  },
  {
   "cell_type": "raw",
   "metadata": {},
   "source": []
  },
  {
   "cell_type": "code",
   "execution_count": null,
   "metadata": {},
   "outputs": [],
   "source": [
    "#req: create a for loop\n",
    "\n",
    "#1. thank all for sending the wishes\n",
    "#2. i am looking for you at the party"
   ]
  },
  {
   "cell_type": "code",
   "execution_count": null,
   "metadata": {},
   "outputs": [],
   "source": []
  },
  {
   "cell_type": "code",
   "execution_count": null,
   "metadata": {},
   "outputs": [],
   "source": [
    "#general syntax of a for loop:\n",
    "\n",
    "# for tempvar in mainvar:\n",
    "     #print(tempvar)"
   ]
  },
  {
   "cell_type": "code",
   "execution_count": null,
   "metadata": {},
   "outputs": [],
   "source": []
  },
  {
   "cell_type": "code",
   "execution_count": 9,
   "metadata": {},
   "outputs": [
    {
     "name": "stdout",
     "output_type": "stream",
     "text": [
      "thank you for the wishes, Anushka\n",
      "I am looking for all of you at the party tonight, Anushka\n",
      "thank you for the wishes, Bhavisha\n",
      "I am looking for all of you at the party tonight, Bhavisha\n",
      "thank you for the wishes, Rafat\n",
      "I am looking for all of you at the party tonight, Rafat\n",
      "thank you for the wishes, Uzma\n",
      "I am looking for all of you at the party tonight, Uzma\n",
      "thank you for the wishes, Anjali\n",
      "I am looking for all of you at the party tonight, Anjali\n"
     ]
    }
   ],
   "source": [
    "for friend in my_friends:\n",
    "    print(f\"thank you for the wishes, {friend.title()}\")\n",
    "    print(f\"I am looking for all of you at the party tonight, {friend.title()}\")"
   ]
  },
  {
   "cell_type": "code",
   "execution_count": 10,
   "metadata": {},
   "outputs": [
    {
     "name": "stdout",
     "output_type": "stream",
     "text": [
      "thank you for all the wishes, Anushka\n",
      "I am looking for all of you at the party tonight, Anushka.\n",
      "\n",
      "thank you for all the wishes, Bhavisha\n",
      "I am looking for all of you at the party tonight, Bhavisha.\n",
      "\n",
      "thank you for all the wishes, Rafat\n",
      "I am looking for all of you at the party tonight, Rafat.\n",
      "\n",
      "thank you for all the wishes, Uzma\n",
      "I am looking for all of you at the party tonight, Uzma.\n",
      "\n",
      "thank you for all the wishes, Anjali\n",
      "I am looking for all of you at the party tonight, Anjali.\n",
      "\n"
     ]
    }
   ],
   "source": [
    "for friend in my_friends:\n",
    "    print(f\"thank you for all the wishes, {friend.title()}\")\n",
    "    print(f\"I am looking for all of you at the party tonight, {friend.title()}.\\n\")"
   ]
  },
  {
   "cell_type": "code",
   "execution_count": null,
   "metadata": {},
   "outputs": [],
   "source": []
  },
  {
   "cell_type": "code",
   "execution_count": null,
   "metadata": {},
   "outputs": [],
   "source": [
    "#enhancement of the code"
   ]
  },
  {
   "cell_type": "code",
   "execution_count": 16,
   "metadata": {},
   "outputs": [
    {
     "name": "stdout",
     "output_type": "stream",
     "text": [
      "thank you for all the wishes,Anushka\n",
      "I am looking for all of you at the party tonight, Anushka.\n",
      "\n",
      "thank you for all the wishes,Bhavisha\n",
      "I am looking for all of you at the party tonight, Bhavisha.\n",
      "\n",
      "thank you for all the wishes,Rafat\n",
      "I am looking for all of you at the party tonight, Rafat.\n",
      "\n",
      "thank you for all the wishes,Uzma\n",
      "I am looking for all of you at the party tonight, Uzma.\n",
      "\n",
      "thank you for all the wishes,Anjali\n",
      "I am looking for all of you at the party tonight, Anjali.\n",
      "\n",
      "thank you for joining the party!\n"
     ]
    }
   ],
   "source": [
    "for friend in my_friends:\n",
    "    print(f\"thank you for all the wishes,{friend.title()}\")\n",
    "    print(f\"I am looking for all of you at the party tonight, {friend.title()}.\\n\")\n",
    "print(\"thank you for joining the party!\")"
   ]
  },
  {
   "cell_type": "code",
   "execution_count": null,
   "metadata": {},
   "outputs": [],
   "source": []
  },
  {
   "cell_type": "code",
   "execution_count": 17,
   "metadata": {},
   "outputs": [
    {
     "name": "stdout",
     "output_type": "stream",
     "text": [
      "['anushka', 'bhavisha', 'rafat', 'uzma', 'anjali']\n"
     ]
    }
   ],
   "source": [
    "print(my_friends)"
   ]
  },
  {
   "cell_type": "code",
   "execution_count": null,
   "metadata": {},
   "outputs": [],
   "source": [
    "req:to get rafat name on output."
   ]
  },
  {
   "cell_type": "code",
   "execution_count": 18,
   "metadata": {},
   "outputs": [
    {
     "name": "stdout",
     "output_type": "stream",
     "text": [
      "uzma\n"
     ]
    }
   ],
   "source": [
    "print(my_friends[3])"
   ]
  },
  {
   "cell_type": "code",
   "execution_count": null,
   "metadata": {},
   "outputs": [],
   "source": [
    "indexing ====> 0,1,2,3......!"
   ]
  },
  {
   "cell_type": "code",
   "execution_count": null,
   "metadata": {},
   "outputs": [],
   "source": [
    "introduction to -ve indexing:\n",
    "    \n",
    "-1,-2,-3,........"
   ]
  },
  {
   "cell_type": "code",
   "execution_count": null,
   "metadata": {},
   "outputs": [],
   "source": []
  },
  {
   "cell_type": "code",
   "execution_count": 19,
   "metadata": {},
   "outputs": [
    {
     "name": "stdout",
     "output_type": "stream",
     "text": [
      "anjali\n"
     ]
    }
   ],
   "source": [
    "print(my_friends[-1])"
   ]
  },
  {
   "cell_type": "code",
   "execution_count": 20,
   "metadata": {},
   "outputs": [
    {
     "name": "stdout",
     "output_type": "stream",
     "text": [
      "bhavisha\n"
     ]
    }
   ],
   "source": [
    "print(my_friends[-4])"
   ]
  },
  {
   "cell_type": "code",
   "execution_count": null,
   "metadata": {},
   "outputs": [],
   "source": [
    "#how to print the list in reverse order."
   ]
  },
  {
   "cell_type": "code",
   "execution_count": null,
   "metadata": {},
   "outputs": [],
   "source": [
    "req: to print the entire list in a reverse order....!"
   ]
  },
  {
   "cell_type": "code",
   "execution_count": 22,
   "metadata": {},
   "outputs": [
    {
     "name": "stdout",
     "output_type": "stream",
     "text": [
      "['anjali', 'uzma', 'rafat', 'bhavisha', 'anushka']\n"
     ]
    }
   ],
   "source": [
    "print(my_friends[::-1])"
   ]
  },
  {
   "cell_type": "code",
   "execution_count": null,
   "metadata": {},
   "outputs": [],
   "source": []
  },
  {
   "cell_type": "code",
   "execution_count": null,
   "metadata": {},
   "outputs": [],
   "source": [
    "introduction to Zen of python:"
   ]
  },
  {
   "cell_type": "code",
   "execution_count": 23,
   "metadata": {},
   "outputs": [
    {
     "name": "stdout",
     "output_type": "stream",
     "text": [
      "The Zen of Python, by Tim Peters\n",
      "\n",
      "Beautiful is better than ugly.\n",
      "Explicit is better than implicit.\n",
      "Simple is better than complex.\n",
      "Complex is better than complicated.\n",
      "Flat is better than nested.\n",
      "Sparse is better than dense.\n",
      "Readability counts.\n",
      "Special cases aren't special enough to break the rules.\n",
      "Although practicality beats purity.\n",
      "Errors should never pass silently.\n",
      "Unless explicitly silenced.\n",
      "In the face of ambiguity, refuse the temptation to guess.\n",
      "There should be one-- and preferably only one --obvious way to do it.\n",
      "Although that way may not be obvious at first unless you're Dutch.\n",
      "Now is better than never.\n",
      "Although never is often better than *right* now.\n",
      "If the implementation is hard to explain, it's a bad idea.\n",
      "If the implementation is easy to explain, it may be a good idea.\n",
      "Namespaces are one honking great idea -- let's do more of those!\n"
     ]
    }
   ],
   "source": [
    "import this"
   ]
  },
  {
   "cell_type": "code",
   "execution_count": null,
   "metadata": {},
   "outputs": [],
   "source": []
  },
  {
   "cell_type": "code",
   "execution_count": null,
   "metadata": {},
   "outputs": [],
   "source": [
    "#how to find the length of the list:"
   ]
  },
  {
   "cell_type": "code",
   "execution_count": 24,
   "metadata": {},
   "outputs": [
    {
     "data": {
      "text/plain": [
       "['anushka', 'bhavisha', 'rafat', 'uzma', 'anjali']"
      ]
     },
     "execution_count": 24,
     "metadata": {},
     "output_type": "execute_result"
    }
   ],
   "source": [
    "my_friends"
   ]
  },
  {
   "cell_type": "code",
   "execution_count": 25,
   "metadata": {},
   "outputs": [
    {
     "data": {
      "text/plain": [
       "5"
      ]
     },
     "execution_count": 25,
     "metadata": {},
     "output_type": "execute_result"
    }
   ],
   "source": [
    "len(my_friends) #len is the method we have to use...!"
   ]
  },
  {
   "cell_type": "code",
   "execution_count": null,
   "metadata": {},
   "outputs": [],
   "source": []
  }
 ],
 "metadata": {
  "kernelspec": {
   "display_name": "Python 3",
   "language": "python",
   "name": "python3"
  },
  "language_info": {
   "codemirror_mode": {
    "name": "ipython",
    "version": 3
   },
   "file_extension": ".py",
   "mimetype": "text/x-python",
   "name": "python",
   "nbconvert_exporter": "python",
   "pygments_lexer": "ipython3",
   "version": "3.7.6"
  }
 },
 "nbformat": 4,
 "nbformat_minor": 4
}
